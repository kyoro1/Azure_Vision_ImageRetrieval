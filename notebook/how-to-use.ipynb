{
 "cells": [
  {
   "cell_type": "code",
   "execution_count": 1,
   "metadata": {},
   "outputs": [],
   "source": [
    "## If you need some libraries, please install.\n",
    "#!pip install -r ../requirements.txt"
   ]
  },
  {
   "cell_type": "code",
   "execution_count": 1,
   "metadata": {},
   "outputs": [],
   "source": [
    "import os, sys\n",
    "os.chdir('../')\n",
    "\n",
    "# If necessary:\n",
    "sys.path.append('/anaconda/envs/azureml_py38/lib/python3.8/site-packages')\n",
    "\n",
    "from src.utils import AzureImageRetrieval"
   ]
  },
  {
   "cell_type": "code",
   "execution_count": 2,
   "metadata": {},
   "outputs": [],
   "source": [
    "ir = AzureImageRetrieval(config_file='config.yml')"
   ]
  },
  {
   "cell_type": "code",
   "execution_count": 4,
   "metadata": {},
   "outputs": [],
   "source": [
    "## Dowoload images with Flickr\n",
    "#ir.downloadImages()"
   ]
  },
  {
   "cell_type": "code",
   "execution_count": 3,
   "metadata": {},
   "outputs": [
    {
     "name": "stdout",
     "output_type": "stream",
     "text": [
      "['53151360082.jpg', '53151360382.jpg', '53151360832.jpg', '53151362627.jpg', '53151362932.jpg', '53151365567.jpg', '53151369837.jpg', '53151370042.jpg', '53151371572.jpg', '53151377317.jpg', '53151377957.jpg', '53151379032.jpg', '53151390357.jpg', '53151394617.jpg', '53151394712.jpg', '53151396892.jpg', '53151396997.jpg', '53151397047.jpg', '53151404672.jpg', '53151404737.jpg', '53151404817.jpg', '53151404847.jpg', '53151405422.jpg', '53151405457.jpg', '53151424017.jpg', '53151424647.jpg', '53151932236.jpg', '53151934426.jpg', '53151936286.jpg', '53151938926.jpg', '53151940721.jpg', '53151945846.jpg', '53151952471.jpg', '53151953536.jpg', '53151968721.jpg', '53151968811.jpg', '53151971016.jpg', '53151980526.jpg', '53151999036.jpg', '53151999141.jpg', '53151999276.jpg', '53151999291.jpg', '53152137649.jpg', '53152137829.jpg', '53152137869.jpg', '53152138314.jpg', '53152138664.jpg', '53152138869.jpg', '53152139429.jpg', '53152142629.jpg', '53152149019.jpg', '53152157799.jpg', '53152158084.jpg', '53152172219.jpg', '53152174079.jpg', '53152174389.jpg', '53152177234.jpg', '53152179184.jpg', '53152183069.jpg', '53152183429.jpg', '53152183449.jpg', '53152186524.jpg', '53152199474.jpg', '53152202389.jpg', '53152202519.jpg', '53152202539.jpg', '53152202654.jpg', '53152202819.jpg', '53152363435.jpg', '53152364365.jpg', '53152365855.jpg', '53152366555.jpg', '53152369040.jpg', '53152371680.jpg', '53152375740.jpg', '53152383780.jpg', '53152391145.jpg', '53152406995.jpg', '53152416548.jpg', '53152418055.jpg', '53152428885.jpg', '53152430390.jpg', '53152433793.jpg', '53152434188.jpg', '53152434623.jpg', '53152435808.jpg', '53152436958.jpg', '53152438863.jpg', '53152439038.jpg', '53152440198.jpg', '53152440613.jpg', '53152443378.jpg', '53152451068.jpg', '53152452743.jpg', '53152468408.jpg', '53152469808.jpg', '53152471538.jpg', '53152471798.jpg', '53152478263.jpg', '53152478278.jpg', '53152481378.jpg', '53152481388.jpg', '53152499293.jpg']\n",
      "[[-2.1095276e-03  3.6962891e-01  4.0585938e+00 ... -1.9746094e+00\n",
      "   1.8273926e-01 -1.6132812e+00]]\n",
      "[[-0.9995117  -0.5097656  -0.68408203 ... -0.9951172  -1.7910156\n",
      "   1.2148438 ]]\n",
      "[[ 6.515625   -2.0175781  -0.15246582 ...  1.1318359   4.1445312\n",
      "  -2.9882812 ]]\n"
     ]
    }
   ],
   "source": [
    "ir.getVectorFromImages(folder='./downloaded_images')"
   ]
  },
  {
   "cell_type": "code",
   "execution_count": 4,
   "metadata": {},
   "outputs": [],
   "source": [
    "## Store objects\n",
    "ir.storeMetaIndex()\n",
    "ir.storeIndex()"
   ]
  },
  {
   "cell_type": "code",
   "execution_count": 5,
   "metadata": {},
   "outputs": [],
   "source": [
    "## Load objects\n",
    "ir.loadMetaIndex()\n",
    "ir.loadIndex()\n",
    "#ir.index_flat_l2 = ir.loadObj(filename=ir.filename_index)"
   ]
  },
  {
   "cell_type": "code",
   "execution_count": 11,
   "metadata": {},
   "outputs": [],
   "source": [
    "bbb = ir.searchIndexWithText(query_text='vine')"
   ]
  },
  {
   "cell_type": "code",
   "execution_count": 12,
   "metadata": {},
   "outputs": [
    {
     "data": {
      "text/plain": [
       "array([[1, 0, 2]])"
      ]
     },
     "execution_count": 12,
     "metadata": {},
     "output_type": "execute_result"
    }
   ],
   "source": [
    "bbb[1]"
   ]
  },
  {
   "cell_type": "code",
   "execution_count": null,
   "metadata": {},
   "outputs": [],
   "source": []
  }
 ],
 "metadata": {
  "kernelspec": {
   "display_name": "Python 3",
   "language": "python",
   "name": "python3"
  },
  "language_info": {
   "codemirror_mode": {
    "name": "ipython",
    "version": 3
   },
   "file_extension": ".py",
   "mimetype": "text/x-python",
   "name": "python",
   "nbconvert_exporter": "python",
   "pygments_lexer": "ipython3",
   "version": "3.8.5"
  },
  "orig_nbformat": 4
 },
 "nbformat": 4,
 "nbformat_minor": 2
}
